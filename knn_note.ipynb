{
 "cells": [
  {
   "cell_type": "code",
   "execution_count": 79,
   "metadata": {},
   "outputs": [],
   "source": [
    "import numpy as np\n",
    "import os\n",
    "import pandas as pd \n",
    "import cv2\n",
    "import imutils\n",
    "from sklearn.neighbors import KNeighborsClassifier\n",
    "from sklearn.metrics import f1_score\n",
    "from sklearn.metrics import accuracy_score"
   ]
  },
  {
   "cell_type": "code",
   "execution_count": 47,
   "metadata": {},
   "outputs": [],
   "source": [
    "classes = {\"kirmizi_(red)\":0,\"sari_(yellow)\":1,\"yesil_(green)\":2,\"sol_kirmizi_(left_red)\":3,\"sag_kirmizi_(right_red)\":4,\"duz_kirmizi_(ahead_red)\":5,\"sol_sari_(left_yellow)\":6,\"sag_sari_(right_yellow)\":7,\"duz_sari_(ahead_yellow)\":8,\"sol_yesil_(left_green)\":9,\"sag_yesil_(right_green)\":10,\"duz_yesil_(ahead_green)\":11}"
   ]
  },
  {
   "cell_type": "code",
   "execution_count": 48,
   "metadata": {},
   "outputs": [],
   "source": [
    "def readDf(path):\n",
    "    df = pd.read_csv(path)\n",
    "    df = df.drop(columns='width')\n",
    "    df = df.drop(columns='height')\n",
    "    df = df.drop(columns='xmin')\n",
    "    df = df.drop(columns='xmax')\n",
    "    df = df.drop(columns='ymin')\n",
    "    df = df.drop(columns='ymax')  \n",
    "    df = df.drop(columns='class')\n",
    "    df[\"name\"] = [classes[item] for item in df['name']]\n",
    "    return df"
   ]
  },
  {
   "cell_type": "code",
   "execution_count": 49,
   "metadata": {},
   "outputs": [],
   "source": [
    "test_path = 'traffic_lights_dataset_v1_type1/test'\n",
    "train_path = 'traffic_lights_dataset_v1_type1/train'\n",
    "trainDf = readDf('traffic_lights_dataset_v1_type1/train.csv')\n",
    "testDf = readDf('traffic_lights_dataset_v1_type1/test.csv')"
   ]
  },
  {
   "cell_type": "code",
   "execution_count": 50,
   "metadata": {},
   "outputs": [
    {
     "name": "stdout",
     "output_type": "stream",
     "text": [
      "282\n"
     ]
    }
   ],
   "source": [
    "train_image_paths = []\n",
    "train_imageId = dict()\n",
    "for image in os.listdir(train_path):\n",
    "    if (str(image)[-3:] == 'jpg'):\n",
    "        train_imageId[str(image)] = len(train_image_paths)\n",
    "        train_image_paths.append(image)\n",
    "train_image_paths\n",
    "print(len(train_image_paths))"
   ]
  },
  {
   "cell_type": "code",
   "execution_count": 51,
   "metadata": {},
   "outputs": [
    {
     "name": "stdout",
     "output_type": "stream",
     "text": [
      "{'IMG_0919.jpg': 0, 'IMG_8390.jpg': 1, 'IMG_1082.jpg': 2, 'IMG_8617.jpg': 3, 'IMG_8630.jpg': 4, 'IMG_1024.jpg': 5, 'IMG_1076.jpg': 6, 'IMG_5749.jpg': 7, 'IMG_0915.jpg': 8, 'IMG_8403.jpg': 9, 'IMG_8557.jpg': 10, 'IMG_0920.jpg': 11, 'IMG_8971.jpg': 12, 'IMG_8667.jpg': 13, 'IMG_8605.jpg': 14, 'IMG_5698.jpg': 15, 'IMG_8527.jpg': 16, 'IMG_8666.jpg': 17, 'IMG_8665.jpg': 18, 'IMG_8364.jpg': 19, 'IMG_8947.jpg': 20, 'IMG_8868.jpg': 21, 'IMG_8363.jpg': 22, 'IMG_8528.jpg': 23, 'IMG_8362.jpg': 24, 'IMG_5349.jpg': 25, 'IMG_5402.jpg': 26, 'IMG_8529.jpg': 27, 'IMG_9007.jpg': 28, 'IMG_8946.jpg': 29, 'IMG_8595.jpg': 30, 'IMG_5391.jpg': 31, 'IMG_8945.jpg': 32, 'IMG_8493.jpg': 33, 'IMG_8391.jpg': 34, 'IMG_8631.jpg': 35, 'IMG_0970.jpg': 36, 'IMG_8491.jpg': 37, 'IMG_8558.jpg': 38, 'IMG_8402.jpg': 39, 'IMG_9006.jpg': 40, 'IMG_8404.jpg': 41, 'IMG_5287.jpg': 42, 'IMG_5350.jpg': 43, 'IMG_8869.jpg': 44, 'IMG_5694.jpg': 45, 'IMG_8604.jpg': 46, 'IMG_8632.jpg': 47, 'IMG_5401.jpg': 48, 'IMG_8969.jpg': 49, 'IMG_8846.jpg': 50, 'IMG_9036.jpg': 51, 'IMG_8392.jpg': 52, 'IMG_8970.jpg': 53, 'IMG_1077.jpg': 54, 'IMG_8556.jpg': 55, 'IMG_8492.jpg': 56, 'IMG_9008.jpg': 57, 'IMG_8616.jpg': 58, 'IMG_8870.jpg': 59}\n",
      "60\n"
     ]
    }
   ],
   "source": [
    "test_image_paths = []\n",
    "test_imageId = dict()\n",
    "for image in os.listdir(test_path):\n",
    "    if (str(image)[-3:] == 'jpg'):\n",
    "        test_imageId[str(image)] = len(test_image_paths)\n",
    "        test_image_paths.append(image)\n",
    "test_image_paths\n",
    "print(test_imageId)\n",
    "print(len(test_image_paths))"
   ]
  },
  {
   "cell_type": "code",
   "execution_count": 52,
   "metadata": {},
   "outputs": [],
   "source": [
    "trainLabels = [ [0]*len(train_image_paths) for _ in range(12) ]\n",
    "trainData = trainDf.values.tolist()\n",
    "cnt = 0\n",
    "for row  in trainData:\n",
    "    trainLabels[row[1]][train_imageId[row[0]]] = 1"
   ]
  },
  {
   "cell_type": "code",
   "execution_count": 53,
   "metadata": {},
   "outputs": [],
   "source": [
    "testLabels = [ [0] * len(test_image_paths) for _ in range(12) ]\n",
    "testData = testDf.values.tolist()\n",
    "cnt = 0\n",
    "for row  in testData:\n",
    "    testLabels[row[1]][test_imageId[row[0]]] = 1"
   ]
  },
  {
   "cell_type": "code",
   "execution_count": 54,
   "metadata": {},
   "outputs": [],
   "source": [
    "def image_to_feature_vector(image, size=(32, 32)):\n",
    "\treturn cv2.resize(image, size).flatten()"
   ]
  },
  {
   "cell_type": "code",
   "execution_count": 55,
   "metadata": {},
   "outputs": [],
   "source": [
    "def extract_color_histogram(image, bins=(8, 8, 8)):\n",
    "\thsv = cv2.cvtColor(image, cv2.COLOR_BGR2HSV)\n",
    "\thist = cv2.calcHist([hsv], [0, 1, 2], None, bins, [0, 180, 0, 256, 0, 256])\n",
    "\tif imutils.is_cv2():\n",
    "\t\thist = cv2.normalize(hist)\n",
    "\telse:\n",
    "\t\tcv2.normalize(hist, hist)\n",
    "\treturn hist.flatten()"
   ]
  },
  {
   "cell_type": "code",
   "execution_count": 56,
   "metadata": {},
   "outputs": [],
   "source": [
    "rawImages = []\n",
    "features = []\n",
    "for image_path in train_image_paths:\n",
    "\timage = cv2.imread(train_path + '/' + image_path)\n",
    "\tpixels = image_to_feature_vector(image)\n",
    "\thist = extract_color_histogram(image)\n",
    "\n",
    "\trawImages.append(pixels)\n",
    "\tfeatures.append(hist)"
   ]
  },
  {
   "cell_type": "code",
   "execution_count": 57,
   "metadata": {},
   "outputs": [],
   "source": [
    "test_rawImages = []\n",
    "test_features = []\n",
    "for image_path in test_image_paths:\n",
    "\timage = cv2.imread(test_path + '/' + image_path)\n",
    "\tpixels = image_to_feature_vector(image)\n",
    "\thist = extract_color_histogram(image)\n",
    "\n",
    "\ttest_rawImages.append(pixels)\n",
    "\ttest_features.append(hist)"
   ]
  },
  {
   "cell_type": "code",
   "execution_count": 58,
   "metadata": {},
   "outputs": [],
   "source": [
    "rawImages = np.array(rawImages)\n",
    "features = np.array(features)\n",
    "# labs = np.array(trainLabels[2])"
   ]
  },
  {
   "cell_type": "code",
   "execution_count": 59,
   "metadata": {},
   "outputs": [],
   "source": [
    "model = [0]*12\n",
    "for i in range(12):\n",
    "    model[i] = KNeighborsClassifier(n_neighbors=2,n_jobs=-1)\n",
    "    model[i].fit(features, trainLabels[i])"
   ]
  },
  {
   "cell_type": "code",
   "execution_count": 80,
   "metadata": {},
   "outputs": [
    {
     "name": "stdout",
     "output_type": "stream",
     "text": [
      "Acc for class 0 : 0.7166666666666667\n",
      "Acc for class 1 : 0.9666666666666667\n",
      "Acc for class 2 : 0.8166666666666667\n",
      "Acc for class 3 : 0.95\n",
      "Acc for class 4 : 1.0\n",
      "Acc for class 5 : 0.9666666666666667\n",
      "Acc for class 6 : 1.0\n",
      "Acc for class 7 : 1.0\n",
      "Acc for class 8 : 1.0\n",
      "Acc for class 9 : 1.0\n",
      "Acc for class 10 : 1.0\n",
      "Acc for class 11 : 1.0\n"
     ]
    },
    {
     "ename": "TypeError",
     "evalue": "accuracy_score() got an unexpected keyword argument 'average'",
     "output_type": "error",
     "traceback": [
      "\u001b[0;31m---------------------------------------------------------------------------\u001b[0m",
      "\u001b[0;31mTypeError\u001b[0m                                 Traceback (most recent call last)",
      "\u001b[1;32m/home/seventhson/machine_learning/project/knn_note.ipynb Cell 15'\u001b[0m in \u001b[0;36m<cell line: 21>\u001b[0;34m()\u001b[0m\n\u001b[1;32m     <a href='vscode-notebook-cell:/home/seventhson/machine_learning/project/knn_note.ipynb#ch0000014?line=16'>17</a>\u001b[0m \t\tcumLabel[j]\u001b[39m.\u001b[39mappend(testLabels[i][j])\n\u001b[1;32m     <a href='vscode-notebook-cell:/home/seventhson/machine_learning/project/knn_note.ipynb#ch0000014?line=18'>19</a>\u001b[0m \t\u001b[39mprint\u001b[39m(\u001b[39m'\u001b[39m\u001b[39mAcc for class \u001b[39m\u001b[39m'\u001b[39m \u001b[39m+\u001b[39m \u001b[39mstr\u001b[39m(i) \u001b[39m+\u001b[39m \u001b[39m\"\u001b[39m\u001b[39m : \u001b[39m\u001b[39m\"\u001b[39m \u001b[39m+\u001b[39m \u001b[39mstr\u001b[39m(acc))\n\u001b[0;32m---> <a href='vscode-notebook-cell:/home/seventhson/machine_learning/project/knn_note.ipynb#ch0000014?line=20'>21</a>\u001b[0m \u001b[39mprint\u001b[39m(accuracy_score(cumLabel,cumPred,average\u001b[39m=\u001b[39;49m\u001b[39m'\u001b[39;49m\u001b[39mweighted\u001b[39;49m\u001b[39m'\u001b[39;49m))\n\u001b[1;32m     <a href='vscode-notebook-cell:/home/seventhson/machine_learning/project/knn_note.ipynb#ch0000014?line=21'>22</a>\u001b[0m \u001b[39mprint\u001b[39m(f1_score(cumLabel,cumPred,average\u001b[39m=\u001b[39m\u001b[39m'\u001b[39m\u001b[39mweighted\u001b[39m\u001b[39m'\u001b[39m))\n",
      "\u001b[0;31mTypeError\u001b[0m: accuracy_score() got an unexpected keyword argument 'average'"
     ]
    }
   ],
   "source": [
    "# print(testLabels[1])\n",
    "cumPred = []\n",
    "cumLabel = []\n",
    "for _ in range(len(test_imageId)):\n",
    "\tcumPred.append([])\n",
    "\tcumLabel.append([])\n",
    "\n",
    "for i in range(12):\n",
    "\tpredictions = model[i].predict(test_features).tolist()\n",
    "\tacc = model[i].score(test_features, testLabels[i])\n",
    "\tif (acc != 1):\n",
    "\t\tf1 = f1_score(testLabels[i],predictions)\n",
    "\telse:\n",
    "\t\tf1 = 1\n",
    "\tfor j in range(len(predictions)):\n",
    "\t\tcumPred[j].append(predictions[j])\n",
    "\t\tcumLabel[j].append(testLabels[i][j])\n",
    "\n",
    "\tprint('Acc for class ' + str(i) + \" : \" + str(acc))\n",
    "\n",
    "print(accuracy_score(cumLabel,cumPred))\n",
    "print(f1_score(cumLabel,cumPred,average='weighted'))\n",
    "# print(\"Cumulative Acc : \" + str(cumAcc))"
   ]
  }
 ],
 "metadata": {
  "kernelspec": {
   "display_name": "Python 3.9.0 ('ml')",
   "language": "python",
   "name": "python3"
  },
  "language_info": {
   "codemirror_mode": {
    "name": "ipython",
    "version": 3
   },
   "file_extension": ".py",
   "mimetype": "text/x-python",
   "name": "python",
   "nbconvert_exporter": "python",
   "pygments_lexer": "ipython3",
   "version": "3.9.0"
  },
  "orig_nbformat": 4,
  "vscode": {
   "interpreter": {
    "hash": "9c45e251ead09ab2a453110ee02d3ea65b789d347afc4d7ad2439b48aab153e8"
   }
  }
 },
 "nbformat": 4,
 "nbformat_minor": 2
}
